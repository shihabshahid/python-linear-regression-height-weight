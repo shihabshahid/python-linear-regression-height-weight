{
 "cells": [
  {
   "cell_type": "code",
   "execution_count": 1,
   "id": "3dc7fac0",
   "metadata": {},
   "outputs": [],
   "source": [
    "import pickle\n",
    "reg = pickle.load(open('shihab_lr1','rb'))\n",
    "\n",
    "import warnings as wr\n",
    "wr.filterwarnings('ignore')"
   ]
  },
  {
   "cell_type": "code",
   "execution_count": 2,
   "id": "a169a430",
   "metadata": {},
   "outputs": [
    {
     "data": {
      "text/plain": [
       "array([[202.96930144]])"
      ]
     },
     "execution_count": 2,
     "metadata": {},
     "output_type": "execute_result"
    }
   ],
   "source": [
    "reg.predict([[71.7309784]])"
   ]
  }
 ],
 "metadata": {
  "kernelspec": {
   "display_name": "Python 3 (ipykernel)",
   "language": "python",
   "name": "python3"
  },
  "language_info": {
   "codemirror_mode": {
    "name": "ipython",
    "version": 3
   },
   "file_extension": ".py",
   "mimetype": "text/x-python",
   "name": "python",
   "nbconvert_exporter": "python",
   "pygments_lexer": "ipython3",
   "version": "3.9.12"
  }
 },
 "nbformat": 4,
 "nbformat_minor": 5
}
